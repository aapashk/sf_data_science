{
 "cells": [
  {
   "cell_type": "code",
   "execution_count": 1,
   "metadata": {},
   "outputs": [
    {
     "data": {
      "text/plain": [
       "3"
      ]
     },
     "execution_count": 1,
     "metadata": {},
     "output_type": "execute_result"
    }
   ],
   "source": [
    "2+1"
   ]
  },
  {
   "cell_type": "code",
   "execution_count": 7,
   "metadata": {},
   "outputs": [],
   "source": [
    "import game_v2"
   ]
  },
  {
   "cell_type": "code",
   "execution_count": 8,
   "metadata": {},
   "outputs": [
    {
     "ename": "KeyboardInterrupt",
     "evalue": "",
     "output_type": "error",
     "traceback": [
      "\u001b[1;31m---------------------------------------------------------------------------\u001b[0m",
      "\u001b[1;31mKeyboardInterrupt\u001b[0m                         Traceback (most recent call last)",
      "Cell \u001b[1;32mIn[8], line 1\u001b[0m\n\u001b[1;32m----> 1\u001b[0m game_v2\u001b[39m.\u001b[39;49mscore_game(game_v2\u001b[39m.\u001b[39;49mrandom_predict)\n",
      "File \u001b[1;32mc:\\Users\\apashk\\Documents\\GitHub\\sf_data_science\\game_v2.py:40\u001b[0m, in \u001b[0;36mscore_game\u001b[1;34m(random_predict)\u001b[0m\n\u001b[0;32m     37\u001b[0m np\u001b[39m.\u001b[39mrandom\u001b[39m.\u001b[39mseed(\u001b[39m1\u001b[39m) \u001b[39m# фиксируем сид для воспроизводимости (фиксируем число для рандома)\u001b[39;00m\n\u001b[0;32m     38\u001b[0m random_array \u001b[39m=\u001b[39m np\u001b[39m.\u001b[39mrandom\u001b[39m.\u001b[39mrandint(\u001b[39m1\u001b[39m, \u001b[39m501\u001b[39m, size\u001b[39m=\u001b[39m(\u001b[39m1000\u001b[39m)) \u001b[39m# загадали список чисел\u001b[39;00m\n\u001b[1;32m---> 40\u001b[0m \u001b[39mfor\u001b[39;00m number \u001b[39min\u001b[39;00m random_array:\n\u001b[0;32m     41\u001b[0m     count_ls\u001b[39m.\u001b[39mappend(random_predict(number))\n\u001b[0;32m     43\u001b[0m score \u001b[39m=\u001b[39m \u001b[39mint\u001b[39m(np\u001b[39m.\u001b[39mmean(count_ls)) \u001b[39m# находим среднее количество попыток\u001b[39;00m\n",
      "File \u001b[1;32mc:\\Users\\apashk\\Documents\\GitHub\\sf_data_science\\game_v2.py:18\u001b[0m, in \u001b[0;36mrandom_predict\u001b[1;34m(number)\u001b[0m\n\u001b[0;32m     16\u001b[0m     count \u001b[39m+\u001b[39m\u001b[39m=\u001b[39m \u001b[39m1\u001b[39m\n\u001b[0;32m     17\u001b[0m     predict_number \u001b[39m=\u001b[39m np\u001b[39m.\u001b[39mrandom\u001b[39m.\u001b[39mrandint(\u001b[39m1\u001b[39m, \u001b[39m101\u001b[39m) \u001b[39m# предполагаемое число\u001b[39;00m\n\u001b[1;32m---> 18\u001b[0m     \u001b[39mif\u001b[39;00m number \u001b[39m==\u001b[39;49m predict_number:\n\u001b[0;32m     19\u001b[0m         \u001b[39m#print(number)\u001b[39;00m\n\u001b[0;32m     20\u001b[0m         \u001b[39mbreak\u001b[39;00m \u001b[39m# выход из цикла, если угадали        \u001b[39;00m\n\u001b[0;32m     21\u001b[0m \u001b[39mreturn\u001b[39;00m(count)\n",
      "\u001b[1;31mKeyboardInterrupt\u001b[0m: "
     ]
    }
   ],
   "source": [
    "game_v2.score_game(game_v2.random_predict)"
   ]
  },
  {
   "cell_type": "code",
   "execution_count": null,
   "metadata": {},
   "outputs": [],
   "source": []
  }
 ],
 "metadata": {
  "kernelspec": {
   "display_name": "Python 3",
   "language": "python",
   "name": "python3"
  },
  "language_info": {
   "codemirror_mode": {
    "name": "ipython",
    "version": 3
   },
   "file_extension": ".py",
   "mimetype": "text/x-python",
   "name": "python",
   "nbconvert_exporter": "python",
   "pygments_lexer": "ipython3",
   "version": "3.9.4"
  }
 },
 "nbformat": 4,
 "nbformat_minor": 2
}
